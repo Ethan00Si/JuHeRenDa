{
 "metadata": {
  "language_info": {
   "codemirror_mode": {
    "name": "ipython",
    "version": 3
   },
   "file_extension": ".py",
   "mimetype": "text/x-python",
   "name": "python",
   "nbconvert_exporter": "python",
   "pygments_lexer": "ipython3",
   "version": "3.8.8"
  },
  "orig_nbformat": 2,
  "kernelspec": {
   "name": "python388jvsc74a57bd0c16a851c63c3e4072673cce0ebd4e2ea0b3b1938145b4fa7ab278007ca6aa5c9",
   "display_name": "Python 3.8.8 64-bit ('web': conda)"
  }
 },
 "nbformat": 4,
 "nbformat_minor": 2,
 "cells": [
  {
   "cell_type": "code",
   "execution_count": 1,
   "metadata": {},
   "outputs": [
    {
     "output_type": "stream",
     "name": "stdout",
     "text": [
      "肖林 have no major\n"
     ]
    }
   ],
   "source": [
    "from process_to_neo import create_graph\n",
    "create_graph(path='../../data/teachers/demo')"
   ]
  },
  {
   "cell_type": "code",
   "execution_count": 3,
   "metadata": {},
   "outputs": [],
   "source": [
    "from py2neo import Graph,Node,Relationship,Subgraph\n",
    "\n",
    "graph = Graph('bolt://localhost:7687',username='neo4j',password='123456')"
   ]
  },
  {
   "cell_type": "code",
   "execution_count": 1,
   "metadata": {},
   "outputs": [],
   "source": [
    "from process_to_neo import getEntity_from_neo"
   ]
  },
  {
   "cell_type": "code",
   "execution_count": 16,
   "metadata": {},
   "outputs": [],
   "source": [
    "import pandas\n",
    "import json\n",
    "import re\n",
    "import numpy\n",
    "def getEntity_from_neo(path):\n",
    "    \"\"\"\n",
    "    read csv from given path, extract entities from news and append 3 columns to the origin csv file\n",
    "    \"\"\"\n",
    "    data = pandas.read_csv(path,encoding='utf-8')\n",
    "    if hasattr(data,'entity_id'):\n",
    "        return\n",
    "    #data['entity_id'] = ''\n",
    "\n",
    "    titles = data.title\n",
    "    names = open('../../data/词典/names/names.txt','r',encoding='utf-8')\n",
    "    #majors = open('/data/词典/names/majors.txt','r',encoding='utf-8')\n",
    "    f = open(r'entity2id.json','r',encoding='utf-8')\n",
    "\n",
    "    entity2id = json.loads(f.read(),encoding='utf-8')\n",
    "    name_list = []\n",
    "\n",
    "    f.close()\n",
    "\n",
    "    for line in names:\n",
    "        name_list.append(line.strip())\n",
    "\n",
    "    entity_ids = []\n",
    "    entity_idxs = []\n",
    "    relation_ids = []\n",
    "\n",
    "    for index,title in enumerate(titles):\n",
    "        entity_id_list = []\n",
    "        entity_idx_list = []\n",
    "        for name in name_list:\n",
    "            match = re.search(name,title)\n",
    "            if match:\n",
    "                entity = match.group()\n",
    "                #只加了信息和经济两个学院的老师，所以肯定有在字典里但不在entity2id里的内容\n",
    "                try:\n",
    "                    entity_id = entity2id[entity]\n",
    "                    entity_idx = match.span()\n",
    "                    entity_id_list.append(str(entity_id))\n",
    "                    entity_idx_list.append(str(entity_idx[0])+':'+str(entity_idx[1]))\n",
    "                except:\n",
    "                    pass\n",
    "\n",
    "        if entity_id_list:\n",
    "            #print(entity_id_list)\n",
    "            #x = '%s' % ' '.join(entity_id_list)\n",
    "            #print(type(x))\n",
    "            entity_ids.append(' '.join(entity_id_list))\n",
    "            entity_idxs.append(' '.join(entity_idx_list))\n",
    "            relation_ids.append(numpy.nan)\n",
    "        else:\n",
    "            entity_ids.append(numpy.nan)\n",
    "            entity_idxs.append(numpy.nan)\n",
    "            relation_ids.append(numpy.nan)\n",
    "\n",
    "    data['entity_id'] = entity_ids\n",
    "    data['entity_idx'] = entity_idxs\n",
    "    data['relation_id'] = relation_ids\n",
    "\n",
    "    data.to_csv(path,index=False)\n",
    "\n",
    "    return"
   ]
  },
  {
   "cell_type": "code",
   "execution_count": 51,
   "metadata": {},
   "outputs": [],
   "source": [
    "a = pandas.read_csv(r'D:\\repositories\\DaChuang\\data\\公众号\\ruc_info.csv')"
   ]
  },
  {
   "cell_type": "code",
   "execution_count": 48,
   "metadata": {},
   "outputs": [],
   "source": [
    "a = a[['datetime','source','url','title','content']]"
   ]
  },
  {
   "cell_type": "code",
   "execution_count": 49,
   "metadata": {},
   "outputs": [],
   "source": [
    "a.to_csv(r'D:\\repositories\\DaChuang\\data\\公众号\\ruc_info.csv',index=False)"
   ]
  },
  {
   "cell_type": "code",
   "execution_count": 52,
   "metadata": {},
   "outputs": [
    {
     "output_type": "execute_result",
     "data": {
      "text/plain": [
       "     datetime source                                                url  \\\n",
       "0  2020-08-05   信火相传  http://mp.weixin.qq.com/s?__biz=MjM5MzAxMTQ2Nw...   \n",
       "1  2020-07-28   信火相传  http://mp.weixin.qq.com/s?__biz=MjM5MzAxMTQ2Nw...   \n",
       "2  2020-07-28   信火相传  http://mp.weixin.qq.com/s?__biz=MjM5MzAxMTQ2Nw...   \n",
       "3  2020-07-25   信火相传  http://mp.weixin.qq.com/s?__biz=MjM5MzAxMTQ2Nw...   \n",
       "4  2020-07-21   信火相传  http://mp.weixin.qq.com/s?__biz=MjM5MzAxMTQ2Nw...   \n",
       "\n",
       "                                  title  \\\n",
       "0                   信息学院毕业生行李打包安置工作圆满结束   \n",
       "1  转载 | 回归经典，读懂文明丨中国人民大学第五届“读史达人”大赛正式启动   \n",
       "2          转载 | 人大自己的GPU计算云来了，现邀请您免费试用！   \n",
       "3    关于2020-2021学年秋季学期可替换国际小学期学分课程的补充说明   \n",
       "4        转载 | 关于2020-2021学年秋季学期本科生选课的通知   \n",
       "\n",
       "                                             content  \n",
       "0  信息学院毕业生行李打包安置工作圆满结束6月下旬开始筹备，7月6日正式启动，7月14日学院代打...  \n",
       "1  为加强“四史”教育，配合“读史读经典”项目实施，促进青年学子“回归经典”、“读懂文明”，积淀...  \n",
       "2  为满足全校师生日益增长的计算需求，学校投资建成了具有更大算力规模的校级公共计算云，包括CPU...  \n",
       "3  关于2020-2021学年秋季学期可替换国际小学期学分课程的补充说明根据近期同学们关于全英文...  \n",
       "4  各院系同学：本学期在各院系及相关部门的共同努力下，新版学生选课系统已建设完成并将上线运行。新...  "
      ],
      "text/html": "<div>\n<style scoped>\n    .dataframe tbody tr th:only-of-type {\n        vertical-align: middle;\n    }\n\n    .dataframe tbody tr th {\n        vertical-align: top;\n    }\n\n    .dataframe thead th {\n        text-align: right;\n    }\n</style>\n<table border=\"1\" class=\"dataframe\">\n  <thead>\n    <tr style=\"text-align: right;\">\n      <th></th>\n      <th>datetime</th>\n      <th>source</th>\n      <th>url</th>\n      <th>title</th>\n      <th>content</th>\n    </tr>\n  </thead>\n  <tbody>\n    <tr>\n      <th>0</th>\n      <td>2020-08-05</td>\n      <td>信火相传</td>\n      <td>http://mp.weixin.qq.com/s?__biz=MjM5MzAxMTQ2Nw...</td>\n      <td>信息学院毕业生行李打包安置工作圆满结束</td>\n      <td>信息学院毕业生行李打包安置工作圆满结束6月下旬开始筹备，7月6日正式启动，7月14日学院代打...</td>\n    </tr>\n    <tr>\n      <th>1</th>\n      <td>2020-07-28</td>\n      <td>信火相传</td>\n      <td>http://mp.weixin.qq.com/s?__biz=MjM5MzAxMTQ2Nw...</td>\n      <td>转载 | 回归经典，读懂文明丨中国人民大学第五届“读史达人”大赛正式启动</td>\n      <td>为加强“四史”教育，配合“读史读经典”项目实施，促进青年学子“回归经典”、“读懂文明”，积淀...</td>\n    </tr>\n    <tr>\n      <th>2</th>\n      <td>2020-07-28</td>\n      <td>信火相传</td>\n      <td>http://mp.weixin.qq.com/s?__biz=MjM5MzAxMTQ2Nw...</td>\n      <td>转载 | 人大自己的GPU计算云来了，现邀请您免费试用！</td>\n      <td>为满足全校师生日益增长的计算需求，学校投资建成了具有更大算力规模的校级公共计算云，包括CPU...</td>\n    </tr>\n    <tr>\n      <th>3</th>\n      <td>2020-07-25</td>\n      <td>信火相传</td>\n      <td>http://mp.weixin.qq.com/s?__biz=MjM5MzAxMTQ2Nw...</td>\n      <td>关于2020-2021学年秋季学期可替换国际小学期学分课程的补充说明</td>\n      <td>关于2020-2021学年秋季学期可替换国际小学期学分课程的补充说明根据近期同学们关于全英文...</td>\n    </tr>\n    <tr>\n      <th>4</th>\n      <td>2020-07-21</td>\n      <td>信火相传</td>\n      <td>http://mp.weixin.qq.com/s?__biz=MjM5MzAxMTQ2Nw...</td>\n      <td>转载 | 关于2020-2021学年秋季学期本科生选课的通知</td>\n      <td>各院系同学：本学期在各院系及相关部门的共同努力下，新版学生选课系统已建设完成并将上线运行。新...</td>\n    </tr>\n  </tbody>\n</table>\n</div>"
     },
     "metadata": {},
     "execution_count": 52
    }
   ],
   "source": [
    "a.head()"
   ]
  },
  {
   "cell_type": "code",
   "execution_count": null,
   "metadata": {},
   "outputs": [],
   "source": []
  }
 ]
}